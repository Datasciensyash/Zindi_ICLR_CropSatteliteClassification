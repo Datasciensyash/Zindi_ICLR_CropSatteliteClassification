{
 "cells": [
  {
   "cell_type": "code",
   "execution_count": 3,
   "metadata": {},
   "outputs": [
    {
     "name": "stdout",
     "output_type": "stream",
     "text": [
      "Requirement already satisfied: numpy in c:\\users\\archy\\appdata\\local\\continuum\\anaconda3\\lib\\site-packages (from -r requirements.txt (line 1)) (1.16.5)\n",
      "Requirement already satisfied: pandas in c:\\users\\archy\\appdata\\local\\continuum\\anaconda3\\lib\\site-packages (from -r requirements.txt (line 2)) (0.25.1)\n",
      "Requirement already satisfied: tifffile in c:\\users\\archy\\appdata\\local\\continuum\\anaconda3\\lib\\site-packages (from -r requirements.txt (line 3)) (2019.7.26.2)\n",
      "Requirement already satisfied: matplotlib in c:\\users\\archy\\appdata\\local\\continuum\\anaconda3\\lib\\site-packages (from -r requirements.txt (line 4)) (3.1.1)\n",
      "Requirement already satisfied: lightgbm in c:\\users\\archy\\appdata\\local\\continuum\\anaconda3\\lib\\site-packages (from -r requirements.txt (line 5)) (2.3.1)\n",
      "Collecting torch===1.4.0 (from -r requirements.txt (line 6))\n"
     ]
    },
    {
     "name": "stderr",
     "output_type": "stream",
     "text": [
      "  ERROR: Could not find a version that satisfies the requirement torch===1.4.0 (from -r requirements.txt (line 6)) (from versions: 0.1.2, 0.1.2.post1, 0.1.2.post2)\n",
      "ERROR: No matching distribution found for torch===1.4.0 (from -r requirements.txt (line 6))\n"
     ]
    }
   ],
   "source": [
    "!pip install -r requirements.txt"
   ]
  },
  {
   "cell_type": "code",
   "execution_count": 1,
   "metadata": {},
   "outputs": [],
   "source": [
    "import matplotlib.pyplot as plt\n",
    "import tifffile as tiff\n",
    "import numpy as np\n",
    "import os\n",
    "import pandas as pd\n",
    "import random\n",
    "\n",
    "#Data information\n",
    "sections = ['00', '01', '02', '03']\n",
    "dates = ['20190606', '20190701', '20190706', '20190711', '20190721', '20190805', '20190815', '20190825', '20190909', '20190919', '20190924', '20191004', '20191103']\n",
    "bands_all = 'B01 B02 B03 B04 B05 B06 B07 B08 B8A B09 B11 B12 CLD'.split(' ')\n",
    "bands = 'B02 B03 B04 B08 B12 CLD'.split(' ')\n",
    "kernel_size = 5"
   ]
  },
  {
   "cell_type": "code",
   "execution_count": 2,
   "metadata": {},
   "outputs": [],
   "source": [
    "def open_image(path):\n",
    "    return tiff.imread(path)\n",
    "\n",
    "def sized_crop(image, pos, size=(32, 32)):\n",
    "    return image[pos[0] - size[0] // 2:pos[0] + size[0] // 2 + 1, pos[1] - size[1] // 2:pos[1] + size[1] // 2 + 1]"
   ]
  },
  {
   "cell_type": "code",
   "execution_count": 3,
   "metadata": {},
   "outputs": [],
   "source": [
    "#Get train df:\n",
    "data = []\n",
    "test = [] \n",
    "for section in sections:\n",
    "    mask = open_image(f'data/{section}/{section[1]}_label.tif')\n",
    "    fields = open_image(f'data/{section}/{section[1]}_field_id.tif')\n",
    "    for date in dates:\n",
    "        img_bands = {}\n",
    "        for band in bands:\n",
    "            img_bands[band] = open_image(f'data/{section}/{date}/{section[1]}_{band}_{date}.tif')\n",
    "        for y in range(kernel_size, mask.shape[0] - kernel_size):\n",
    "            for x in range(kernel_size, mask.shape[1] - kernel_size):\n",
    "                    if fields[y, x] != 0:\n",
    "                        data_slice = [section, date, mask[y, x], x, y]\n",
    "                        for band in bands:\n",
    "                            kernel_data = []\n",
    "                            cropped_img = sized_crop(img_bands[band], (y, x), (kernel_size, kernel_size))\n",
    "                            data_slice.append(cropped_img)\n",
    "                        if mask[y, x] == 0:\n",
    "                            test_slice = [fields[y, x]]\n",
    "                            test_slice.extend(data_slice)\n",
    "                            test.append(test_slice)\n",
    "                        else:\n",
    "                            test_slice = [fields[y, x]]\n",
    "                            test_slice.extend(data_slice)\n",
    "                            data.append(test_slice)"
   ]
  },
  {
   "cell_type": "code",
   "execution_count": 4,
   "metadata": {},
   "outputs": [],
   "source": [
    "colnames = ['field_id', 'section', 'date', 'class', 'x', 'y']\n",
    "colnames.extend(bands)\n",
    "train_df = pd.DataFrame(data, columns=colnames)\n",
    "test_df = pd.DataFrame(test, columns=colnames)"
   ]
  },
  {
   "cell_type": "code",
   "execution_count": 5,
   "metadata": {},
   "outputs": [],
   "source": [
    "train_df.to_pickle('dataframes/train_data.csv')\n",
    "test_df.to_pickle('dataframes/test_data.csv')"
   ]
  }
 ],
 "metadata": {
  "kernelspec": {
   "display_name": "Python 3",
   "language": "python",
   "name": "python3"
  },
  "language_info": {
   "codemirror_mode": {
    "name": "ipython",
    "version": 3
   },
   "file_extension": ".py",
   "mimetype": "text/x-python",
   "name": "python",
   "nbconvert_exporter": "python",
   "pygments_lexer": "ipython3",
   "version": "3.7.4"
  }
 },
 "nbformat": 4,
 "nbformat_minor": 2
}
